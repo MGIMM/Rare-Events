{
 "cells": [
  {
   "cell_type": "markdown",
   "metadata": {},
   "source": [
    "## Editing pyrare.py\n",
    "\n",
    "Here, we deleted the fixed levels version, and we will concertrate on the performance of adaptive version of multilevel\n",
    "splitting method. In the class **RareEvents**, we trace the complete ancestral tree by the matrix $\\xi$ and A."
   ]
  },
  {
   "cell_type": "code",
   "execution_count": 1407,
   "metadata": {
    "collapsed": true
   },
   "outputs": [],
   "source": [
    "import numpy as np\n",
    "from time import time\n",
    "\n",
    "\n",
    "class RareEvents:\n",
    "    def __init__(self, mu_0, score_function,\n",
    "                 shaker,level, p_0 = 0.75):\n",
    "        \"\"\"\n",
    "        :param level: level to estimate\n",
    "        :param p_0: successful rate, the classical way is to choose p_0 large,\n",
    "                    but for AMS, in order to fix the level, we would like to choose\n",
    "                    p_0 small. This will also improve the quality of the variance \n",
    "                    estimator.\n",
    "        :param mu_0: distribution of X_0\n",
    "        :param score_function: black box score_function\n",
    "        :param shaker: metro-polis/Gibbs/Gaussian(for the toy example) kernel\n",
    "        \n",
    "        Remark:\n",
    "        \n",
    "        1. For the estimation of variance, we cannot change the times of\n",
    "        shaking by the empirical reject_rate. The shaking procedure won't\n",
    "        change the unbiasedness of the approximation of terminal path\n",
    "        measures \\gamma_n^N and \\eta_n^N, but it will change the intergral\n",
    "        operator \\phi_p and the variance itself, and that's why the more we\n",
    "        shake, the more close we get to the theoretical lower bound of the\n",
    "        asymptotic variance. But, as we did before, if we really want a\n",
    "        little variance which is close to the theoretical lower bound, this\n",
    "        trick is still useful.\n",
    "\n",
    "        2. The 1st estimator is the estimator of non asymptotic variance,\n",
    "        which is relatively easier to get by the algorithm we provided. We\n",
    "        have the a.s. convergence of this estimator to the asymptotic ones.\n",
    "        \n",
    "        3. We cannot use permutation to replace the multinomial procedure\n",
    "        anymore. This trick will not effect the estimation of the\n",
    "        \\gamma_n and the crude estimator of the variance, but our\n",
    "        estimator is not compatible with this trick. Further study will be\n",
    "        done in a form of reconstruction of genealogical structure of the\n",
    "        complete ancestral trees.  \n",
    "        \"\"\"\n",
    "        self.mu_0 = mu_0\n",
    "        self.score_function = score_function\n",
    "        self.shaker = shaker\n",
    "        self.level = level\n",
    "        self.p_0 = p_0\n",
    "\n",
    "    def adaptive_levels(self,N, shake_times = 1, status_tracking = False):\n",
    "        ###### Initiation\n",
    "        t_0 = time()\n",
    "        xi = []\n",
    "        X = self.mu_0(N)\n",
    "        xi += [X]\n",
    "        A = [] \n",
    "        \n",
    "        p_0 = self.p_0\n",
    "        L = np.array([-np.Inf,np.sort(self.score_function(X))[np.int((1-p_0)*N)]])\n",
    "        k = 1\n",
    "        E = []\n",
    "        E += [range(N)]\n",
    "\n",
    "        while(L[k]<self.level):\n",
    "            I = []\n",
    "            survive_index = []\n",
    "            for i in range(N):\n",
    "                if self.score_function(X[i])>L[k]:\n",
    "                    I += [X[i]]\n",
    "                    #S_called_times += 1\n",
    "                    survive_index += [i]\n",
    "            ell = len(I) \n",
    "           # to ensure that I_k would not be empty\n",
    "            if ell == 0:        \n",
    "                break\n",
    "\n",
    "           # we remark that the permutation trick below doesn't work for the estimator of var\n",
    "\n",
    "            #I = np.random.permutation(I)\n",
    "            #q = 0\n",
    "            #for i in clone_index:\n",
    "            #    X[i] = I[q%ell]\n",
    "            #    q += 1\n",
    "            A_k = [] \n",
    "            X_cloned = np.zeros(N)\n",
    "            for i in range(N):\n",
    "                A_k += [int(np.random.choice(survive_index))]\n",
    "                X_cloned[i] = X[A_k[i]]\n",
    "            \n",
    "            A += [A_k]   \n",
    "            X = X_cloned\n",
    "\n",
    "            \n",
    "            for index_shaker in range(shake_times):\n",
    "                for j in range(N):\n",
    "                    X_iter = self.shaker(X[j])\n",
    "                    X[j] = X_iter\n",
    "            L = np.append(L, np.sort(self.score_function(X))[np.int((1-p_0)*N)])\n",
    "            xi += [X]\n",
    "            k += 1\n",
    "            n = k\n",
    "\n",
    "        N_L = np.sum((self.score_function(X)>self.level))\n",
    "        r_hat = N_L/float(N)\n",
    "        p_hat = p_0**(n-1)*r_hat \n",
    "\n",
    "        if status_tracking ==True:\n",
    "            print (\"estimation of p: \" + str(p_hat))\n",
    "            print ('____________________________________________________________\\n')\n",
    "            print (\"Time spent: %s s\" %(time() - t_0) )\n",
    "            #print (\"score_function called: %s times\" % S_called_times)\n",
    "        output = {'p_hat':p_hat,  \\\n",
    "                  'A':A,\\\n",
    "                  'xi':xi,\\\n",
    "                 }    \n",
    "        return output \n"
   ]
  },
  {
   "cell_type": "markdown",
   "metadata": {},
   "source": [
    "## Test by the toy example"
   ]
  },
  {
   "cell_type": "code",
   "execution_count": 1408,
   "metadata": {
    "collapsed": false
   },
   "outputs": [],
   "source": [
    "import sys\n",
    "from scipy.stats import norm\n",
    "from time import time\n",
    "from ProgressBar import *\n",
    "from matplotlib import pyplot as plt\n",
    "%matplotlib inline\n",
    "import seaborn as sns\n",
    "sns.set_style('whitegrid')"
   ]
  },
  {
   "cell_type": "code",
   "execution_count": 1413,
   "metadata": {
    "collapsed": false
   },
   "outputs": [
    {
     "name": "stdout",
     "output_type": "stream",
     "text": [
      "\n",
      "============================================================\n",
      "Info: |num_particles_200|shaker_gaussian|shake_times_10\n",
      "p_0 = 0.1\t n_0 =2\t r = 0.134989803163\n",
      "real value of p: 0.00134989803163\n",
      "relative deviation(ideal): 4.9404419789\n",
      "estimation of p: 0.00235\n",
      "____________________________________________________________\n",
      "\n",
      "Time spent: 0.0362191200256 s\n"
     ]
    }
   ],
   "source": [
    "def S_test(X):\n",
    "    #score function which is a black box\n",
    "    #return np.abs(X)\n",
    "    return X\n",
    "\n",
    "def get_paramS_test(level_test = 8, p_0 = 0.75,status_tracking = True):\n",
    "\n",
    "    real_p = 1-norm.cdf(level_test)\n",
    "\n",
    "    ###idealized situation\n",
    "\n",
    "    n_0 = int(np.floor(np.log(real_p)/np.log(p_0)))\n",
    "    r = real_p/(p_0**n_0)\n",
    "    sigma_theoretical = np.sqrt(n_0*(1-p_0)/p_0 + (1-r)/r)\n",
    "    l = [-np.inf]\n",
    "    for k in range(1,n_0+1,1):\n",
    "        l = np.append(l, norm.ppf(1 - p_0**k/2))\n",
    "    l_ideal = np.append(l, level_test)\n",
    "\n",
    "    if status_tracking == True:\n",
    "        print (\"p_0 = \" + str(p_0) + '\\t n_0 =' + str(n_0) + \"\\t r = \" + str(r))\n",
    "        #print (\"sequence of levels: \"+ str(l_ideal))\n",
    "        print (\"real value of p: \" + str(real_p))\n",
    "        print (\"relative deviation(ideal): \" + str(sigma_theoretical))\n",
    "    return real_p, sigma_theoretical, n_0, l_ideal\n",
    "\n",
    "def mu_0_test(n):\n",
    "    '''\n",
    "    param n: the size of particles\n",
    "    '''\n",
    "    return np.random.normal(0,1,n)\n",
    "\n",
    "\n",
    "\n",
    "#tuning parameter sigma_1 for shaker\n",
    "\n",
    "\n",
    "def shaker_gaussian(x,sigma_1=0.1):\n",
    "    c = np.sqrt(1+sigma_1**2)\n",
    "    return np.random.normal(x/c,sigma_1/c,1)\n",
    "\n",
    "def shaker_metropolis(x,sigma_1):\n",
    "    iter = np.random.uniform(x-sigma_1,x+sigma_1)\n",
    "    if np.exp(-0.5*(iter**2-x**2))>np.random.rand(1):\n",
    "   \treturn iter\n",
    "    else:\n",
    "    \treturn x\n",
    "\n",
    "\n",
    "print ('\\n============================================================')\n",
    "####### parameters ######\n",
    "p_0_test = 0.1 \n",
    "N_test = 200\n",
    "#shaker = shaker_metropolis\n",
    "shaker = shaker_gaussian\n",
    "shake_times = 10 \n",
    "num_simulation = 200\n",
    "level_test = 3\n",
    "#def input_parameters():\n",
    "#    print ('please input the parameters:\\n')\n",
    "#    p_0_test = input('p_0_test: ')\n",
    "#    N_test = input('number of particles: ')\n",
    "#    shake_times = input('shake_times: ')\n",
    "#    shaker_choice = 'empty'\n",
    "#    while shaker_choice not in ['metropolis', 'gaussian']:\n",
    "#        shaker_choice = raw_input(\"shaker('metropolis' or 'gaussian'): \")\n",
    "#    \n",
    "#    if shaker_choice == 'metropolis':\n",
    "#        shaker = shaker_metropolis\n",
    "#    elif shaker_choice == 'gaussian':\n",
    "#        shaker = shaker_gaussian\n",
    "#    num_simulation = 100\n",
    "#    return p_0_test, N_test, shaker, shake_times, num_simulation\n",
    "#\n",
    "#p_0_test, N_test, shaker, shake_times, num_simulation = input_parameters()\n",
    "#########################\n",
    "\n",
    "test_info = '|num_particles_' + str(N_test) + '|' + \\\n",
    "        str(shaker).split(' ')[1] + '|shake_times_' + str(shake_times) \n",
    "        \n",
    "\n",
    "print ('Info: ' + test_info)\n",
    "params = get_paramS_test(level_test = level_test, p_0 = p_0_test,status_tracking = True)\n",
    "\n",
    "rare_test = RareEvents(mu_0 = mu_0_test, score_function = S_test,\\\n",
    "\tlevel = level_test,shaker = shaker, p_0 = p_0_test)\n",
    "\n",
    "#test\n",
    "test_result = rare_test.adaptive_levels(N = N_test, shake_times = shake_times, status_tracking=True)\n",
    "A = test_result['A']\n",
    "xi = test_result['xi']"
   ]
  },
  {
   "cell_type": "code",
   "execution_count": 1414,
   "metadata": {
    "collapsed": false
   },
   "outputs": [
    {
     "name": "stdout",
     "output_type": "stream",
     "text": [
      "(3, 200)\n"
     ]
    },
    {
     "data": {
      "text/plain": [
       "<matplotlib.text.Text at 0x7fe1c0557b90>"
      ]
     },
     "execution_count": 1414,
     "metadata": {},
     "output_type": "execute_result"
    },
    {
     "data": {
      "image/png": "[encoded data removed]",
      "text/plain": [
       "<matplotlib.figure.Figure at 0x7fe1c063f150>"
      ]
     },
     "metadata": {},
     "output_type": "display_data"
    }
   ],
   "source": [
    "print (np.shape(xi))\n",
    "sns.distplot(xi[-1],bins = 20)\n",
    "plt.title('Distribution of the particles in the last step')"
   ]
  },
  {
   "cell_type": "code",
   "execution_count": 1415,
   "metadata": {
    "collapsed": false,
    "scrolled": true
   },
   "outputs": [
    {
     "name": "stdout",
     "output_type": "stream",
     "text": [
      "(2, 200)\n"
     ]
    },
    {
     "data": {
      "text/plain": [
       "(array([  7.,   0.,   0.,   0.,   0.,   8.,   0.,   0.,   5.,   8.,   0.,\n",
       "          0.,  11.,  14.,  13.,   9.,   0.,   0.,   0.,   0.,   6.,   0.,\n",
       "          0.,   0.,   0.,   0.,   0.,   0.,   0.,  11.,   0.,   0.,   0.,\n",
       "          0.,   0.,  10.,  12.,  15.,   9.,   0.,  11.,   0.,   0.,   0.,\n",
       "          0.,   8.,   0.,   9.,  15.,  19.]),\n",
       " array([  13.  ,   16.66,   20.32,   23.98,   27.64,   31.3 ,   34.96,\n",
       "          38.62,   42.28,   45.94,   49.6 ,   53.26,   56.92,   60.58,\n",
       "          64.24,   67.9 ,   71.56,   75.22,   78.88,   82.54,   86.2 ,\n",
       "          89.86,   93.52,   97.18,  100.84,  104.5 ,  108.16,  111.82,\n",
       "         115.48,  119.14,  122.8 ,  126.46,  130.12,  133.78,  137.44,\n",
       "         141.1 ,  144.76,  148.42,  152.08,  155.74,  159.4 ,  163.06,\n",
       "         166.72,  170.38,  174.04,  177.7 ,  181.36,  185.02,  188.68,\n",
       "         192.34,  196.  ]),\n",
       " <a list of 50 Patch objects>)"
      ]
     },
     "execution_count": 1415,
     "metadata": {},
     "output_type": "execute_result"
    },
    {
     "data": {
      "image/png": "[encoded data removed]",
      "text/plain": [
       "<matplotlib.figure.Figure at 0x7fe1c0c67650>"
      ]
     },
     "metadata": {},
     "output_type": "display_data"
    }
   ],
   "source": [
    "print (np.shape(A))\n",
    "plt.hist(A[-1],alpha = 0.5,bins = 50)"
   ]
  },
  {
   "cell_type": "markdown",
   "metadata": {},
   "source": [
    "## matrix O\n",
    "O[p][q][i]: the ancester in the time p of the i st particle in the time q. "
   ]
  },
  {
   "cell_type": "code",
   "execution_count": 1416,
   "metadata": {
    "collapsed": true
   },
   "outputs": [],
   "source": [
    "n = np.shape(xi)[0]-1 \n",
    "N = N_test"
   ]
  },
  {
   "cell_type": "code",
   "execution_count": 1417,
   "metadata": {
    "collapsed": false
   },
   "outputs": [
    {
     "data": {
      "text/plain": [
       "(3, 3, 200)"
      ]
     },
     "execution_count": 1417,
     "metadata": {},
     "output_type": "execute_result"
    }
   ],
   "source": [
    "O = np.zeros((n+1,n+1,N))\n",
    "np.shape(O)"
   ]
  },
  {
   "cell_type": "code",
   "execution_count": 1418,
   "metadata": {
    "collapsed": false
   },
   "outputs": [],
   "source": [
    "for p in range(n+1):\n",
    "    for q in np.arange(p,n+1):\n",
    "        for i in range(N):\n",
    "            k = q\n",
    "            anc = i\n",
    "            while k>p:\n",
    "                anc = A[k-1][anc]\n",
    "                k -= 1\n",
    "            O[p][q][i] = anc \n",
    "    "
   ]
  },
  {
   "cell_type": "code",
   "execution_count": 1419,
   "metadata": {
    "collapsed": false
   },
   "outputs": [
    {
     "name": "stdout",
     "output_type": "stream",
     "text": [
      "179.0\n",
      "179\n"
     ]
    }
   ],
   "source": [
    "print (O[n-2][n][29])\n",
    "print (A[n-2][A[n-1][29]])\n"
   ]
  },
  {
   "cell_type": "code",
   "execution_count": 1420,
   "metadata": {
    "collapsed": false
   },
   "outputs": [
    {
     "data": {
      "text/plain": [
       "47"
      ]
     },
     "execution_count": 1420,
     "metadata": {},
     "output_type": "execute_result"
    }
   ],
   "source": [
    "I_n = []\n",
    "for i in range(N):\n",
    "    if xi[n][i]> level_test:\n",
    "        I_n += [i]\n",
    "len(I_n)"
   ]
  },
  {
   "cell_type": "code",
   "execution_count": 1421,
   "metadata": {
    "collapsed": false
   },
   "outputs": [
    {
     "data": {
      "text/plain": [
       "9.966958095444268"
      ]
     },
     "execution_count": 1421,
     "metadata": {},
     "output_type": "execute_result"
    }
   ],
   "source": [
    "V = 0\n",
    "ell_I_n = len(I_n)\n",
    "for p in np.arange(1,n+1):\n",
    "    for i in range(ell_I_n):\n",
    "        for j in np.arange(i+1,ell_I_n):\n",
    "            for z in range(N):\n",
    "                idx = (O[p][n][I_n[i]] != O[p][n][I_n[j]])\n",
    "                idx *= (O[p-1][n][I_n[i]] == O[p-1][n][I_n[j]])\n",
    "                idx *= (O[0][n][I_n[i]] != O[0][p-1][z])\n",
    "                if idx == 1:\n",
    "                    V+=2\n",
    "                            \n",
    "V *= N**(n-1)*1.0/(N-1)**(n+1) \n",
    "V       "
   ]
  },
  {
   "cell_type": "code",
   "execution_count": null,
   "metadata": {
    "collapsed": false
   },
   "outputs": [],
   "source": []
  },
  {
   "cell_type": "code",
   "execution_count": 1422,
   "metadata": {
    "collapsed": true
   },
   "outputs": [],
   "source": [
    "nb_c = np.zeros((n,N))\n",
    "for p in np.arange(1,n+1):\n",
    "    for k in range(N):\n",
    "        for i in I_n: \n",
    "            if O[p-1][n][i] == k:\n",
    "                nb_c[p-1][k] += 1\n",
    "                "
   ]
  },
  {
   "cell_type": "code",
   "execution_count": 1426,
   "metadata": {
    "collapsed": false
   },
   "outputs": [
    {
     "data": {
      "text/plain": [
       "array([  0.,   0.,   0.,   0.,   0.,   0.,   0.,   0.,   0.,   0.,   0.,\n",
       "         0.,   0.,   0.,   0.,   0.,   0.,   0.,   0.,   0.,   0.,   0.,\n",
       "         0.,   0.,   0.,   0.,   0.,   0.,   0.,   0.,   0.,   0.,   0.,\n",
       "         0.,   0.,   0.,   0.,   0.,   0.,   0.,   0.,   0.,   0.,   0.,\n",
       "         0.,   0.,   0.,   0.,   0.,   1.,   0.,   0.,   0.,   0.,   0.,\n",
       "         0.,   0.,   0.,   0.,   0.,   0.,   0.,   0.,   0.,   0.,   0.,\n",
       "         4.,   0.,   0.,   0.,   8.,   0.,   0.,   0.,   0.,   0.,   0.,\n",
       "         0.,   0.,   0.,   0.,   0.,   0.,   0.,   0.,   0.,   0.,   6.,\n",
       "         0.,   0.,   0.,   0.,   0.,   0.,   0.,   0.,   0.,   0.,   0.,\n",
       "         0.,   0.,   0.,   0.,   0.,   0.,   0.,   0.,   0.,   0.,   0.,\n",
       "         0.,   0.,   0.,   0.,   0.,   0.,   0.,   0.,   0.,   0.,   0.,\n",
       "         0.,   0.,   0.,   0.,   0.,   0.,   0.,   0.,   0.,   0.,   0.,\n",
       "         0.,   0.,   0.,   0.,   0.,   0.,   0.,   0.,   0.,   0.,   0.,\n",
       "         0.,   0.,   0.,   0.,   0.,   0.,   0.,   0.,   0.,   0.,   0.,\n",
       "         0.,   0.,   0.,   0.,   0.,   0.,   0.,   0.,   0.,   7.,   0.,\n",
       "         0.,   0.,   0.,   0.,   0.,   0.,   0.,   0.,   0.,   0.,   0.,\n",
       "         0.,   0.,   0.,   0.,   1.,   0.,   0.,   0.,   0.,   0.,   0.,\n",
       "         0.,   7.,  13.,   0.,   0.,   0.,   0.,   0.,   0.,   0.,   0.,\n",
       "         0.,   0.])"
      ]
     },
     "execution_count": 1426,
     "metadata": {},
     "output_type": "execute_result"
    }
   ],
   "source": [
    "nb_c[1]"
   ]
  },
  {
   "cell_type": "code",
   "execution_count": null,
   "metadata": {
    "collapsed": true
   },
   "outputs": [],
   "source": []
  }
 ],
 "metadata": {
  "kernelspec": {
   "display_name": "Python 2",
   "language": "python",
   "name": "python2"
  },
  "language_info": {
   "codemirror_mode": {
    "name": "ipython",
    "version": 2
   },
   "file_extension": ".py",
   "mimetype": "text/x-python",
   "name": "python",
   "nbconvert_exporter": "python",
   "pygments_lexer": "ipython2",
   "version": "2.7.12"
  }
 },
 "nbformat": 4,
 "nbformat_minor": 1
}
