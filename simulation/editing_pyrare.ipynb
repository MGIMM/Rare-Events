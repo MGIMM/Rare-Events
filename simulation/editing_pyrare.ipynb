{
 "cells": [
  {
   "cell_type": "markdown",
   "metadata": {},
   "source": [
    "## Editing pyrare.py\n",
    "\n",
    "Here, we deleted the fixed levels version, and we will concertrate on the performance of adaptive version of multilevel\n",
    "splitting method. In the class **RareEvents**, we trace the complete ancestral tree by the matrix $\\xi$ and A."
   ]
  },
  {
   "cell_type": "code",
   "execution_count": 152,
   "metadata": {
    "collapsed": false
   },
   "outputs": [],
   "source": [
    "import numpy as np\n",
    "from time import time\n",
    "\n",
    "\n",
    "class RareEvents:\n",
    "    def __init__(self, mu_0, score_function,\n",
    "                 shaker,level, p_0 = 0.75):\n",
    "        \"\"\"\n",
    "        :param level: level to estimate\n",
    "        :param p_0: successful rate, the classical way is to choose p_0 large,\n",
    "                    but for AMS, in order to fix the level, we would like to choose\n",
    "                    p_0 small. This will also improve the quality of the variance \n",
    "                    estimator.\n",
    "        :param mu_0: distribution of X_0\n",
    "        :param score_function: black box score_function\n",
    "        :param shaker: metro-polis/Gibbs/Gaussian(for the toy example) kernel\n",
    "        \n",
    "        Remark:\n",
    "        \n",
    "        1. For the estimation of variance, we cannot change the times of\n",
    "        shaking by the empirical reject_rate. The shaking procedure won't\n",
    "        change the unbiasedness of the approximation of terminal path\n",
    "        measures \\gamma_n^N and \\eta_n^N, but it will change the intergral\n",
    "        operator \\phi_p and the variance itself, and that's why the more we\n",
    "        shake, the more close we get to the theoretical lower bound of the\n",
    "        asymptotic variance. But, as we did before, if we really want a\n",
    "        little variance which is close to the theoretical lower bound, this\n",
    "        trick is still useful.\n",
    "\n",
    "        2. The 1st estimator is the estimator of non asymptotic variance,\n",
    "        which is relatively easier to get by the algorithm we provided. We\n",
    "        have the a.s. convergence of this estimator to the asymptotic ones.\n",
    "        \n",
    "        3. We cannot use permutation to replace the multinomial procedure\n",
    "        anymore. This trick will not effect the estimation of the\n",
    "        \\gamma_n and the crude estimator of the variance, but our\n",
    "        estimator is not compatible with this trick. Further study will be\n",
    "        done in a form of reconstruction of genealogical structure of the\n",
    "        complete ancestral trees.  \n",
    "        \"\"\"\n",
    "        self.mu_0 = mu_0\n",
    "        self.score_function = score_function\n",
    "        self.shaker = shaker\n",
    "        self.level = level\n",
    "        self.p_0 = p_0\n",
    "\n",
    "    def adaptive_levels(self,N, shake_times = 1, status_tracking = False):\n",
    "        ###### Initiation\n",
    "        t_0 = time()\n",
    "        xi = []\n",
    "        X = self.mu_0(N)\n",
    "        xi += [X]\n",
    "        A = [] \n",
    "        \n",
    "        p_0 = self.p_0\n",
    "        L = np.array([-np.Inf,np.sort(self.score_function(X))[np.int((1-p_0)*N)]])\n",
    "        k = 1\n",
    "        #E = []\n",
    "        #E += [range(N)]\n",
    "\n",
    "        while(L[k]<self.level):\n",
    "            I = []\n",
    "            survive_index = []\n",
    "            for i in range(N):\n",
    "                if self.score_function(X[i])>L[k]:\n",
    "                    #I += [X[i]]\n",
    "                    #S_called_times += 1\n",
    "                    survive_index += [i]\n",
    "            ell = len(survive_index) \n",
    "           # to ensure that I_k would not be empty\n",
    "            if ell == 0:        \n",
    "                break\n",
    "\n",
    "           # we remark that the permutation trick below doesn't work for the estimator of var\n",
    "\n",
    "            #I = np.random.permutation(I)\n",
    "            #q = 0\n",
    "            #for i in clone_index:\n",
    "            #    X[i] = I[q%ell]\n",
    "            #    q += 1\n",
    "            A_k = np.zeros(N,dtype = np.int) \n",
    "            X_cloned = np.zeros(N)\n",
    "            for i in range(N):\n",
    "                A_k[i] = np.random.choice(survive_index)\n",
    "                X_cloned[i] = X[A_k[i]]\n",
    "            \n",
    "            A += [A_k]   \n",
    "            X = X_cloned\n",
    "\n",
    "            \n",
    "            for sigma_range in np.arange(0.35,0.05,-0.02):\n",
    "                for j in range(N):\n",
    "                    for index_shaker in range(shake_times):\n",
    "                        X_iter = self.shaker(X[j],sigma_1 = sigma_range)\n",
    "                    if self.score_function(X_iter)>L[k]:\n",
    "                        X[j] = X_iter\n",
    "            L = np.append(L, np.sort(self.score_function(X))[np.int((1-p_0)*N)])\n",
    "            xi += [X]\n",
    "            k += 1\n",
    "        n = k\n",
    "        N_L = np.sum((self.score_function(X)>self.level))\n",
    "        r_hat = N_L/float(N)\n",
    "        p_hat = p_0**(n-1)*r_hat \n",
    "\n",
    "        if status_tracking ==True:\n",
    "            print (\"estimation of p: \" + str(p_hat))\n",
    "            print ('____________________________________________________________\\n')\n",
    "            print (\"Time spent: %s s\" %(time() - t_0) )\n",
    "            #print (\"score_function called: %s times\" % S_called_times)\n",
    "        output = {'p_hat':p_hat,  \\\n",
    "                  'A':A,\\\n",
    "                  'xi':xi,\\\n",
    "                 }    \n",
    "        return output \n"
   ]
  },
  {
   "cell_type": "markdown",
   "metadata": {},
   "source": [
    "## Test by the toy example"
   ]
  },
  {
   "cell_type": "code",
   "execution_count": 153,
   "metadata": {
    "collapsed": false
   },
   "outputs": [],
   "source": [
    "import sys\n",
    "from scipy.stats import norm\n",
    "from time import time\n",
    "from ProgressBar import *\n",
    "from matplotlib import pyplot as plt\n",
    "%matplotlib inline\n",
    "import seaborn as sns\n",
    "sns.set_style('whitegrid')"
   ]
  },
  {
   "cell_type": "code",
   "execution_count": 637,
   "metadata": {
    "collapsed": false,
    "scrolled": true
   },
   "outputs": [
    {
     "name": "stdout",
     "output_type": "stream",
     "text": [
      "\n",
      "============================================================\n",
      "Info: |num_particles_200|shaker_gaussian|shake_times_1\n",
      "p_0 = 0.4\t n_0 =6\t r = 0.659129898257\n",
      "real value of p: 0.00269979606326\n",
      "relative variance(ideal): 9.51715163072\n",
      "estimation of p: 0.00258048\n",
      "____________________________________________________________\n",
      "\n",
      "Time spent: 0.253233909607 s\n"
     ]
    }
   ],
   "source": [
    "def S_test(X):\n",
    "    '''\n",
    "    score function which is a black box\n",
    "    '''\n",
    "    return np.abs(X)\n",
    "\n",
    "def get_paramS_test(level_test = 8, p_0 = 0.75,status_tracking = True):\n",
    "    '''\n",
    "    This function returns the real values for the toy example \n",
    "    '''\n",
    "    real_p = (1-norm.cdf(level_test))*2\n",
    "    n_0 = int(np.floor(np.log(real_p)/np.log(p_0)))\n",
    "    r = real_p/(p_0**n_0)\n",
    "    sigma2_theoretical = n_0*(1-p_0)/p_0 + (1-r)/r\n",
    "    #l = [-np.inf]\n",
    "    #for k in range(1,n_0+1,1):\n",
    "    #    l = np.append(l, norm.ppf(1 - p_0**k/2))\n",
    "    #l_ideal = np.append(l, level_test)\n",
    "\n",
    "    if status_tracking == True:\n",
    "        print (\"p_0 = \" + str(p_0) + '\\t n_0 =' + str(n_0) + \"\\t r = \" + str(r))\n",
    "        #print (\"sequence of levels: \"+ str(l_ideal))\n",
    "        print (\"real value of p: \" + str(real_p))\n",
    "        print (\"relative variance(ideal): \" + str(sigma2_theoretical))\n",
    "    return real_p, sigma2_theoretical, n_0,r\n",
    "def mu_0_test(N):\n",
    "    '''\n",
    "    param n: the size of particles\n",
    "    '''\n",
    "    return np.random.normal(0,1,N)\n",
    "\n",
    "def shaker_gaussian(x,sigma_1=0.2):\n",
    "    '''\n",
    "    a reversible transition kernel for mu_0_test\n",
    "    '''\n",
    "    c = np.sqrt(1+sigma_1**2)\n",
    "    return np.random.normal(x/c,sigma_1/c,1)\n",
    "\n",
    "#def shaker_metropolis(x,sigma_1):\n",
    "#    iter = np.random.uniform(x-sigma_1,x+sigma_1)\n",
    "#    if np.exp(-0.5*(iter**2-x**2))>np.random.rand(1):\n",
    "#   \treturn iter\n",
    "#    else:\n",
    "#    \treturn x\n",
    "\n",
    "\n",
    "print ('\\n============================================================')\n",
    "####### parameters #######\n",
    "p_0_test = 0.4\n",
    "N_test = 200 \n",
    "shaker = shaker_gaussian\n",
    "shake_times = 1 \n",
    "num_simulation = 100\n",
    "level_test = 3\n",
    "test_info = '|num_particles_' + str(N_test) + '|' + \\\n",
    "        str(shaker).split(' ')[1] + '|shake_times_' + str(shake_times) \n",
    "        \n",
    "################################################################################\n",
    "\n",
    "print ('Info: ' + test_info)\n",
    "params = get_paramS_test(level_test = level_test, p_0 = p_0_test,status_tracking = True)\n",
    "\n",
    "####### definition of the RareEvents class\n",
    "rare_test = RareEvents(mu_0 = mu_0_test, score_function = S_test,\\\n",
    "\tlevel = level_test,shaker = shaker, p_0 = p_0_test)\n",
    "\n",
    "#test\n",
    "test_result = rare_test.adaptive_levels(N = N_test, shake_times = shake_times, status_tracking=True)\n",
    "#tracing the genealogical information\n",
    "A = test_result['A']\n",
    "xi = test_result['xi']"
   ]
  },
  {
   "cell_type": "code",
   "execution_count": 638,
   "metadata": {
    "collapsed": false
   },
   "outputs": [
    {
     "name": "stdout",
     "output_type": "stream",
     "text": [
      "(7, 200)\n"
     ]
    }
   ],
   "source": [
    "####### verification for the number of the levels ####### \n",
    "print (np.shape(xi))"
   ]
  },
  {
   "cell_type": "markdown",
   "metadata": {},
   "source": [
    "## matrix O\n",
    "**remark**\n",
    "\n",
    "O[p][q][i]: the ancester in the time p of the i st particle in the time q. "
   ]
  },
  {
   "cell_type": "code",
   "execution_count": 639,
   "metadata": {
    "collapsed": false
   },
   "outputs": [],
   "source": [
    "def var_estimator(xi,A):\n",
    "    '''\n",
    "    this function is simplifief version for estimating the asymptotic variance for \n",
    "    f = id. \n",
    "    '''\n",
    "    n = np.shape(xi)[0]-1 \n",
    "    N = N_test\n",
    "    O = np.zeros((n+1,n+1,N))\n",
    "    for p in range(n+1):\n",
    "        for q in np.arange(p,n+1):\n",
    "            for i in range(N):\n",
    "                k = q\n",
    "                anc = i\n",
    "                while k>p:\n",
    "                    anc = A[k-1][anc]\n",
    "                    k -= 1\n",
    "                O[p][q][i] = anc \n",
    "        \n",
    "    \n",
    "    I_n = []\n",
    "    for i in range(N):\n",
    "        if xi[n][i]> level_test:\n",
    "            I_n += [i]\n",
    "    \n",
    "    V = 0\n",
    "    for p in np.arange(1,n+1):\n",
    "        for k_p_1 in range(N):\n",
    "            set_c =[] \n",
    "            for i in I_n: \n",
    "                if O[p-1][n][i] == k_p_1:\n",
    "                    set_c +=[i] \n",
    "            set_p = np.zeros(N)\n",
    "            for i in set_c:\n",
    "                for k_p in range(N):\n",
    "                    if O[p][n][i] == k_p:\n",
    "                        set_p[k_p] += 1\n",
    "            nb_c = np.sum(set_p)**2 - np.sum(set_p**2)\n",
    "                        \n",
    "                \n",
    "            if nb_c>0:\n",
    "                varnothing_p_1 = 0\n",
    "                for z in range(N):\n",
    "                    if O[0][p-1][z] != O[0][p-1][k_p_1]:\n",
    "                        varnothing_p_1 += 1\n",
    "                V += nb_c*varnothing_p_1\n",
    "                    \n",
    "    V *= N**(n-1)*1.0/(N-1)**(n+1) \n",
    "    return V"
   ]
  },
  {
   "cell_type": "code",
   "execution_count": 640,
   "metadata": {
    "collapsed": false,
    "scrolled": true
   },
   "outputs": [
    {
     "data": {
      "text/plain": [
       "2.9477360317511572"
      ]
     },
     "execution_count": 640,
     "metadata": {},
     "output_type": "execute_result"
    }
   ],
   "source": [
    "var_estimator(xi,A)"
   ]
  },
  {
   "cell_type": "code",
   "execution_count": 641,
   "metadata": {
    "collapsed": false
   },
   "outputs": [
    {
     "data": {
      "text/plain": [
       "4"
      ]
     },
     "execution_count": 641,
     "metadata": {},
     "output_type": "execute_result"
    }
   ],
   "source": [
    "a = np.array([1,0,2])\n",
    "np.sum(a)**2 - np.sum(a ** 2)"
   ]
  },
  {
   "cell_type": "code",
   "execution_count": 642,
   "metadata": {
    "collapsed": false
   },
   "outputs": [],
   "source": [
    "list_var = []\n",
    "list_p = []\n",
    "for index_sim in range(num_simulation):\n",
    "    test_result = rare_test.adaptive_levels(N = N_test, shake_times = shake_times, status_tracking=False)\n",
    "    A = test_result['A']\n",
    "    xi = test_result['xi'] \n",
    "    list_var += [var_estimator(xi = xi,A = A)]\n",
    "    list_p += [test_result['p_hat']]"
   ]
  },
  {
   "cell_type": "code",
   "execution_count": 643,
   "metadata": {
    "collapsed": false
   },
   "outputs": [
    {
     "data": {
      "text/plain": [
       "<matplotlib.axes._subplots.AxesSubplot at 0x7f51f9e49950>"
      ]
     },
     "execution_count": 643,
     "metadata": {},
     "output_type": "execute_result"
    },
    {
     "data": {
      "image/png": "[encoded data removed]",
      "text/plain": [
       "<matplotlib.figure.Figure at 0x7f51f9d92b90>"
      ]
     },
     "metadata": {},
     "output_type": "display_data"
    }
   ],
   "source": [
    "sns.distplot(list_var)"
   ]
  },
  {
   "cell_type": "code",
   "execution_count": 644,
   "metadata": {
    "collapsed": false
   },
   "outputs": [
    {
     "name": "stdout",
     "output_type": "stream",
     "text": [
      "0.00269979606326\n",
      "0.0028700672\n"
     ]
    }
   ],
   "source": [
    "print (params[0])\n",
    "print (np.mean(list_p))"
   ]
  },
  {
   "cell_type": "code",
   "execution_count": 645,
   "metadata": {
    "collapsed": false,
    "scrolled": true
   },
   "outputs": [
    {
     "data": {
      "text/plain": [
       "<matplotlib.axes._subplots.AxesSubplot at 0x7f51f9d63390>"
      ]
     },
     "execution_count": 645,
     "metadata": {},
     "output_type": "execute_result"
    },
    {
     "data": {
      "image/png": "[encoded data removed]",
      "text/plain": [
       "<matplotlib.figure.Figure at 0x7f51f9ced850>"
      ]
     },
     "metadata": {},
     "output_type": "display_data"
    }
   ],
   "source": [
    "sns.distplot(np.sqrt(N)*(list_p- params[0])/p_0_test**params[2])"
   ]
  },
  {
   "cell_type": "code",
   "execution_count": 646,
   "metadata": {
    "collapsed": false
   },
   "outputs": [
    {
     "data": {
      "text/plain": [
       "3.1078698730220911"
      ]
     },
     "execution_count": 646,
     "metadata": {},
     "output_type": "execute_result"
    }
   ],
   "source": [
    "np.mean(list_var)"
   ]
  },
  {
   "cell_type": "code",
   "execution_count": 647,
   "metadata": {
    "collapsed": false
   },
   "outputs": [
    {
     "data": {
      "text/plain": [
       "29.870509999999996"
      ]
     },
     "execution_count": 647,
     "metadata": {},
     "output_type": "execute_result"
    }
   ],
   "source": [
    "np.var(np.sqrt(N)*(list_p- params[0])/p_0_test**params[2])"
   ]
  },
  {
   "cell_type": "code",
   "execution_count": 227,
   "metadata": {
    "collapsed": true
   },
   "outputs": [],
   "source": [
    "#np.savetxt('list_p.out', list_p, delimiter=',')\n",
    "#np.savetxt('list_var.out', list_var, delimiter=',')"
   ]
  },
  {
   "cell_type": "code",
   "execution_count": 228,
   "metadata": {
    "collapsed": false
   },
   "outputs": [],
   "source": [
    "l_p = np.loadtxt(\"list_p.out\",delimiter = ',')\n",
    "l_var = np.loadtxt(\"list_var.out\",delimiter = ',')"
   ]
  },
  {
   "cell_type": "code",
   "execution_count": null,
   "metadata": {
    "collapsed": true
   },
   "outputs": [],
   "source": []
  }
 ],
 "metadata": {
  "kernelspec": {
   "display_name": "Python 2",
   "language": "python",
   "name": "python2"
  },
  "language_info": {
   "codemirror_mode": {
    "name": "ipython",
    "version": 2
   },
   "file_extension": ".py",
   "mimetype": "text/x-python",
   "name": "python",
   "nbconvert_exporter": "python",
   "pygments_lexer": "ipython2",
   "version": "2.7.12"
  }
 },
 "nbformat": 4,
 "nbformat_minor": 1
}
