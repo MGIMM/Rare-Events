{
 "cells": [
  {
   "cell_type": "code",
   "execution_count": 1,
   "metadata": {
    "collapsed": false
   },
   "outputs": [
    {
     "name": "stderr",
     "output_type": "stream",
     "text": [
      "/Users/duqiming2004/anaconda/lib/python2.7/site-packages/matplotlib/__init__.py:872: UserWarning: axes.color_cycle is deprecated and replaced with axes.prop_cycle; please use the latter.\n",
      "  warnings.warn(self.msg_depr % (key, alt_key))\n"
     ]
    }
   ],
   "source": [
    "import numpy as np\n",
    "from matplotlib import pyplot as plt\n",
    "import seaborn as sns\n",
    "sns.set_style(\"whitegrid\")\n",
    "%matplotlib inline"
   ]
  },
  {
   "cell_type": "markdown",
   "metadata": {},
   "source": [
    "# Toy Example (dim = 1)\n",
    "* $X \\sim \\mathcal{N}(0,1)$ r.v that we could simulate\n",
    "* $S:\\mathbb{R} \\to \\mathbb{R}$ score function / blackbox i.e. we could simulate $S(X)$, but we don't know the form of $S$. here we take $S(X) = |X| $\n",
    "* Goal : estimate $p = \\mathbb{P}(S(X)>q) < 10^{-6}$ ( q = 5 rare event)"
   ]
  },
  {
   "cell_type": "code",
   "execution_count": 442,
   "metadata": {
    "collapsed": false
   },
   "outputs": [],
   "source": [
    "from numba import autojit\n",
    "@autojit\n",
    "def S(X):\n",
    "    '''score function which is a black box'''\n",
    "    return np.abs(X)"
   ]
  },
  {
   "cell_type": "markdown",
   "metadata": {},
   "source": [
    "## The fixed-level method"
   ]
  },
  {
   "cell_type": "code",
   "execution_count": 965,
   "metadata": {
    "collapsed": false
   },
   "outputs": [
    {
     "name": "stdout",
     "output_type": "stream",
     "text": [
      "[       -inf  0.96316414  1.10396511  2.38498092  2.68978076  3.        ]\n",
      "real value of p: 0.00269979606326\n"
     ]
    }
   ],
   "source": [
    "# sequence of levels\n",
    "num_lev = 5\n",
    "#q = np.array([1.1,1.2,1.25,1.5,1.8])\n",
    "q_test = 3\n",
    "q = np.append(-np.Inf,np.sort(np.random.uniform(0.5,q_test,num_lev)))\n",
    "q[num_lev] = q_test\n",
    "print q\n",
    "\n",
    "# real value of p\n",
    "from scipy.stats import norm\n",
    "p = (1-norm.cdf(q[num_lev]))*2\n",
    "print \"real value of p:\" ,p"
   ]
  },
  {
   "cell_type": "code",
   "execution_count": 966,
   "metadata": {
    "collapsed": false
   },
   "outputs": [
    {
     "name": "stdout",
     "output_type": "stream",
     "text": [
      "var_tuning:  0.5\n",
      "levels:  [       -inf  0.96316414  1.10396511  2.38498092  2.68978076  3.        ]\n",
      "0.1658\n",
      "0.1642\n",
      "0.0411\n",
      "0.0388\n",
      "real value of p: 0.00269979606326\n",
      "estimation of p:  4.34141424048e-05\n",
      "relative variation:  98.3919473402\n",
      "N:  10000\n"
     ]
    },
    {
     "name": "stderr",
     "output_type": "stream",
     "text": [
      "/Users/duqiming2004/anaconda/lib/python2.7/site-packages/ipykernel/__main__.py:27: VisibleDeprecationWarning: using a non-integer number instead of an integer will result in an error in the future\n"
     ]
    }
   ],
   "source": [
    "#tuning parameter \n",
    "sigma_1 = 1\n",
    "var_tuning = float(sigma_1**2)/(1+sigma_1**2)\n",
    "print \"var_tuning: \",var_tuning\n",
    "print \"levels: \", q\n",
    "\n",
    "\n",
    "###Estimation of p\n",
    "\n",
    "N = 10000 # number of samples\n",
    "X = np.zeros([num_lev,N])\n",
    "X[0,:] = np.random.normal(0,1,N) \n",
    "p_hat = []\n",
    "I = [[0] for k in range(num_lev-1)]\n",
    "for k in range(num_lev-1):\n",
    "    p_hat = np.append(p_hat,np.sum((S(X[k,]>q[k+1])))/float(N))\n",
    "    print p_hat[k]\n",
    "    for j in range(N):\n",
    "        if S(X[k,j])>q[k+1]:\n",
    "            I[k] = np.append(I[k],X[k,j])\n",
    "    for j in range(N):\n",
    "        if S(X[k,j])>q[k+1]:\n",
    "            X[k+1,j] = X[k,j]\n",
    "        else:\n",
    "            l = np.random.choice(I[k])\n",
    "            \n",
    "            X[k+1,j] = X[k,l]\n",
    "    \n",
    "        X_iter = np.random.normal(X[k+1,j],np.sqrt(var_tuning),1)\n",
    "        if S(X_iter)>q[k+1]:\n",
    "            X[k+1,j] = X_iter\n",
    "    \n",
    "    \n",
    "\n",
    "\n",
    "print \"real value of p:\" ,p\n",
    "print \"estimation of p: \", np.prod(p_hat)\n",
    "print \"relative variation: \",np.abs((p - np.prod(p_hat))/p)*np.sqrt(N)\n",
    "print \"N: \",N\n",
    "\n",
    "\n",
    "\n",
    "\n"
   ]
  },
  {
   "cell_type": "code",
   "execution_count": 768,
   "metadata": {
    "collapsed": false,
    "scrolled": false
   },
   "outputs": [
    {
     "name": "stderr",
     "output_type": "stream",
     "text": [
      "/Users/duqiming2004/anaconda/lib/python2.7/site-packages/ipykernel/__main__.py:21: VisibleDeprecationWarning: using a non-integer number instead of an integer will result in an error in the future\n"
     ]
    }
   ],
   "source": [
    "# we will estimate p for different N \n",
    "p_list = []\n",
    "variation = []\n",
    "for N in np.array(np.linspace(500,10000,100),np.int):\n",
    "    X = np.zeros([num_lev,N])\n",
    "    X[0,:] = np.random.normal(0,1,N) \n",
    "    p_hat = []\n",
    "    I = [[0] for k in range(num_lev-1)]\n",
    "    for k in range(num_lev-1):\n",
    "        p_hat = np.append(p_hat,np.sum((S(X[k,]>q[k+1])))/float(N))\n",
    "        #print p_hat[k]\n",
    "        for j in range(N):\n",
    "            if S(X[k,j])>q[k+1]:\n",
    "                I[k] = np.append(I[k],X[k,j])\n",
    "        for j in range(N):\n",
    "            if S(X[k,j])>q[k+1]:\n",
    "                X[k+1,j] = X[k,j]\n",
    "            else:\n",
    "                l = np.random.choice(I[k])\n",
    "\n",
    "                X[k+1,j] = X[k,l]\n",
    "\n",
    "            X_iter = np.random.normal(X[k+1,j],np.sqrt(var_tuning),1)\n",
    "            if S(X_iter)>q[k+1]:\n",
    "                X[k+1,j] = X_iter\n",
    "\n",
    "\n",
    "\n",
    "    variation = np.append(variation,np.abs((p - np.prod(p_hat))/p)*np.sqrt(N))\n",
    "    p_list = np.append(p_list,np.prod(p_hat))\n",
    "#     print \"real value of p:\" ,p\n",
    "#     print \"estimation of p: \", np.prod(p_hat)\n",
    "#     print \"relative variation: \",np.abs((p - np.prod(p_hat))/p)*np.sqrt(N)\n",
    "#     print \"N: \",N\n",
    "\n"
   ]
  },
  {
   "cell_type": "code",
   "execution_count": 769,
   "metadata": {
    "collapsed": false
   },
   "outputs": [
    {
     "name": "stdout",
     "output_type": "stream",
     "text": [
      "25897.9941088\n",
      "89\n"
     ]
    },
    {
     "data": {
      "text/plain": [
       "<matplotlib.text.Text at 0x127779790>"
      ]
     },
     "execution_count": 769,
     "metadata": {},
     "output_type": "execute_result"
    },
    {
     "data": {
      "image/png": "[encoded data removed]",
      "text/plain": [
       "<matplotlib.figure.Figure at 0x12902df50>"
      ]
     },
     "metadata": {},
     "output_type": "display_data"
    }
   ],
   "source": [
    "plt.figure(figsize=[15,5])\n",
    "plt.plot(variation*(variation < 100000),\"p\")\n",
    "print np.mean(variation)\n",
    "print np.sum(variation < 50000)\n",
    "plt.title(\"relative residus of $\\hatp$\")"
   ]
  },
  {
   "cell_type": "code",
   "execution_count": 770,
   "metadata": {
    "collapsed": false
   },
   "outputs": [
    {
     "name": "stdout",
     "output_type": "stream",
     "text": [
      "var:  25897.9941088\n",
      "'minimum' var(theoretic): 17189.283006\n",
      "#{var<var(theoretic)}:  79\n",
      "1-sigma :  0.682689492137\n"
     ]
    },
    {
     "data": {
      "image/png": "[encoded data removed]",
      "text/plain": [
       "<matplotlib.figure.Figure at 0x12947e6d0>"
      ]
     },
     "metadata": {},
     "output_type": "display_data"
    }
   ],
   "source": [
    "plt.figure(figsize = [15,5])\n",
    "plt.hist(variation,bins = 20)\n",
    "plt.title(\"Histogram of relative residus\")\n",
    "a = np.array([(1-norm.cdf(q[i]))*2 for i in range(num_lev)])[1:]\n",
    "print 'var: ', np.mean(variation)\n",
    "print \"'minimum' var(theoretic):\",np.sum((1-a)/a)\n",
    "print \"#{var<var(theoretic)}: \",np.sum(variation < np.sum((1-a)/a))\n",
    "print \"1-sigma : \",1- (1-norm.cdf(1))*2"
   ]
  },
  {
   "cell_type": "code",
   "execution_count": 809,
   "metadata": {
    "collapsed": false
   },
   "outputs": [
    {
     "data": {
      "text/plain": [
       "<matplotlib.text.Text at 0x127c6fc50>"
      ]
     },
     "execution_count": 809,
     "metadata": {},
     "output_type": "execute_result"
    },
    {
     "data": {
      "image/png": "[encoded data removed]",
      "text/plain": [
       "<matplotlib.figure.Figure at 0x127a8b750>"
      ]
     },
     "metadata": {},
     "output_type": "display_data"
    }
   ],
   "source": [
    "plt.figure(figsize = [15,5])\n",
    "plt.hist(p_list,bins = 50)\n",
    "plt.title(\"Histogramme of $\\hatp$\")\n"
   ]
  },
  {
   "cell_type": "markdown",
   "metadata": {},
   "source": [
    "## Adaptive Multilevel Splitting    "
   ]
  },
  {
   "cell_type": "code",
   "execution_count": 973,
   "metadata": {
    "collapsed": false
   },
   "outputs": [
    {
     "name": "stdout",
     "output_type": "stream",
     "text": [
      "1\n",
      "0.656889017874\n",
      "0.0015\n",
      "2\n",
      "1.13846294266\n",
      "0.0019\n",
      "3\n",
      "1.53381201353\n",
      "0.002125\n",
      "4\n",
      "1.85352519806\n",
      "0.002375\n",
      "5\n",
      "2.14172918699\n",
      "0.0025\n",
      "6\n",
      "2.40481501984\n",
      "0.0026\n",
      "7\n",
      "2.65083629089\n",
      "0.0025703125\n",
      "8\n",
      "2.87883086552\n",
      "0.0026109375\n",
      "k =  9\n",
      "real value of p: 0.00269979606326\n",
      "estimation of p:  0.0026109375\n",
      "relative variation:  2.32730514363\n",
      "N:  5000\n"
     ]
    }
   ],
   "source": [
    "p_0 = 0.5 # prescribed success rate\n",
    "N = 5000 #size of sample\n",
    "max_iter = 1000\n",
    "\n",
    "# calculate the empirical quantile of X\n",
    "@autojit\n",
    "def L_empirical(X,percentage = p_0):\n",
    "    \n",
    "    return np.percentile(S(X),(1-percentage)*100,interpolation=\"lower\")\n",
    "\n",
    "###Estimation of p\n",
    "\n",
    "X = np.random.normal(0,1,N)\n",
    "L = np.array([-np.Inf,L_empirical(X)])\n",
    "k = 1\n",
    "while(L[k]<q_test):\n",
    "    print k\n",
    "    print L[k]\n",
    "    X_new = []\n",
    "    for i in range(N):\n",
    "        if S(X[i])>L[k]:\n",
    "            X_new = np.append(X_new, X[i])\n",
    "        else:\n",
    "            X_tilde = np.random.normal(0,1,1)\n",
    "            thr = 1#add a threshold control the max_iter\n",
    "            #while((S(X_tilde)<=L[k])*(thr< max_iter) == 1 ):\n",
    "            while(S(X_tilde)<=L[k]):\n",
    "                X_tilde = np.random.normal(0,1,1)\n",
    "                thr += 1\n",
    "            X_new = np.append(X_new, X_tilde)\n",
    "                \n",
    "            \n",
    "    \n",
    "    X = X_new\n",
    "    L = np.append(L, L_empirical(X))\n",
    "    k += 1\n",
    "    \n",
    "    N_L = np.sum((S(X)>=q_test))\n",
    "    p_hat = N_L/float(N)*p_0**(k-1)\n",
    "    print p_hat\n",
    "\n",
    "print \"k = \",k\n",
    "    \n",
    "N_L = np.sum((S(X)>=q_test))\n",
    "p_hat = N_L/float(N)*p_0**(k-1)\n",
    "\n",
    "\n",
    "print \"real value of p:\" ,p\n",
    "print \"estimation of p: \", p_hat\n",
    "print \"relative variation: \",np.abs((p - p_hat))/p*np.sqrt(N)\n",
    "print \"N: \",N\n",
    "\n"
   ]
  },
  {
   "cell_type": "code",
   "execution_count": null,
   "metadata": {
    "collapsed": true
   },
   "outputs": [],
   "source": []
  }
 ],
 "metadata": {
  "kernelspec": {
   "display_name": "Python 2",
   "language": "python",
   "name": "python2"
  }
 },
 "nbformat": 4,
 "nbformat_minor": 0
}
