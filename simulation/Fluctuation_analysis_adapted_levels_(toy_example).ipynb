{
 "cells": [
  {
   "cell_type": "code",
   "execution_count": null,
   "metadata": {
    "collapsed": true
   },
   "outputs": [],
   "source": [
    "import numpy as np\n",
    "from matplotlib import pyplot as plt\n",
    "import seaborn as sns\n",
    "sns.set_style(\"whitegrid\")\n",
    "%matplotlib inline"
   ]
  },
  {
   "cell_type": "markdown",
   "metadata": {},
   "source": [
    "# Fluctuation analysis for adapted-levels algorithm\n",
    "In this section we will do some analysis of the comportment of $\\sqrt N\\frac{\\hat p - p}{p}$. In the idealized situation, by the thm of CTL, it converges to a normal law and we are interested in estimating the variance of this normal distribution."
   ]
  },
  {
   "cell_type": "code",
   "execution_count": null,
   "metadata": {
    "collapsed": true
   },
   "outputs": [],
   "source": [
    "from numba import autojit\n",
    "@autojit\n",
    "def S(X):\n",
    "    '''score function which is a black box'''\n",
    "    return np.abs(X)"
   ]
  },
  {
   "cell_type": "code",
   "execution_count": null,
   "metadata": {
    "collapsed": true
   },
   "outputs": [],
   "source": [
    "q_test = 4\n",
    "from scipy.stats import norm\n",
    "p = (1-norm.cdf(q_test))*2\n",
    "\n",
    "p_0 = 0.75 #success rate\n",
    "n_0 = int(np.log(p)/np.log(p_0))\n",
    "r = p/(p_0**n_0)\n",
    "sigma_theoretical = np.sqrt(n_0*(1-p_0)/p_0 + (1-r)/r)\n",
    "print (\"theoretical std of relative variation: \", sigma_theoretical)\n",
    "print \"real value of p:\" ,p"
   ]
  },
  {
   "cell_type": "code",
   "execution_count": null,
   "metadata": {
    "collapsed": true
   },
   "outputs": [],
   "source": [
    "\n",
    "p_0 = 0.75 # prescribed success rate\n",
    "N = 50000 #size of sample\n",
    "\n",
    "def mu_0_test(N,q_test):\n",
    "    '''The distribution of X that we could simulate'''\n",
    "    ## To ensure that L_k != empty\n",
    "    X = np.random.normal(0,1,N)\n",
    "    while(np.sum((S(X)>q_test)) == 0):\n",
    "        X = np.random.normal(0,1,N)\n",
    "    return X\n",
    "\n",
    "\n",
    "\n",
    "\n",
    "\n",
    "\n",
    "\n",
    "def L_empirical(X,alpha, N, score_function):\n",
    "    \n",
    "    \n",
    "    return np.sort(score_function(X))[np.int((1-alpha)*N)]\n",
    "\n",
    "\n",
    "def simulation_adapted_levels(p_0, N, mu_0, q_test, score_function, status_track = False):\n",
    "###Estimation of p\n",
    "\n",
    "\n",
    "    X = mu_0(N,q_test)\n",
    "    L = np.array([-np.Inf,L_empirical(X ,p_0 ,N,score_function )])\n",
    "    k = 1\n",
    "\n",
    "    while(L[k]<q_test):\n",
    "        if status_track == True:\n",
    "            print \"\\t\"\n",
    "            print \"k = \",k\n",
    "            print 'current level: ', L[k]\n",
    "        I = []\n",
    "        for i in range(N):\n",
    "            if S(X[i])>L[k]:\n",
    "                I = np.append(I, X[i])\n",
    "        l = len(I)\n",
    "        \n",
    "\n",
    "        X[0:l] = I\n",
    "\n",
    "    ########## permutation trick to replace multinominal distribution\n",
    "        I = np.random.permutation(I)\n",
    "        for i in range(l,N,1):\n",
    "            X[i] = I[i%l]    \n",
    "\n",
    "        L = np.append(L, L_empirical(X,p_0 ,N,score_function))\n",
    "        k += 1\n",
    "\n",
    "    \n",
    "\n",
    "    N_L = np.sum((S(X)>q_test))\n",
    "    p_hat = N_L/float(N)*p_0**(k-1)\n",
    "#     L_adapted = L[0:-1]\n",
    "#     L_adapted = np.append(L_adapted, q_test)\n",
    "    \n",
    "    if status_track ==True:\n",
    "        print (\"final k = \",k)\n",
    "        print (\"real value of p:\" ,p)\n",
    "        print (\"estimation of p: \", p_hat)\n",
    "        print (\"relative variation: \",(p - p_hat)/p*np.sqrt(N))\n",
    "    return p_hat, (p - p_hat)/p*np.sqrt(N)\n"
   ]
  },
  {
   "cell_type": "code",
   "execution_count": null,
   "metadata": {
    "collapsed": true
   },
   "outputs": [],
   "source": [
    "#test\n",
    "simulation_adapted_levels(p_0 = 0.75, N = 1000, mu_0 = mu_0_test, q_test = 5, score_function = S, status_track = True)"
   ]
  },
  {
   "cell_type": "code",
   "execution_count": null,
   "metadata": {
    "collapsed": true
   },
   "outputs": [],
   "source": [
    "list_N = [100,500,1000,3000]\n",
    "n_choice_N = len(list_N)\n",
    "n_sim = 1000\n",
    "#N = 100, 1000, 10000, 100000\n",
    "sim_N =[[ [] for j in range(n_sim)] for i in range(n_choice_N)]\n",
    "print (\"Total number of simulation: \", n_choice_N)\n",
    "for index_sim in range(n_choice_N):\n",
    "    for i in range(n_sim):\n",
    "        simulation_adapted_levels(p_0 = 0.75, N = 1000,\n",
    "                                  mu_0 = mu_0_test, q_test = 4, score_function = S, status_track = False)\n",
    "        \n",
    "    print (\"simulation completed: \",index_sim+1)\n",
    "sim_N = np.array(sim_N)"
   ]
  },
  {
   "cell_type": "code",
   "execution_count": null,
   "metadata": {
    "collapsed": true
   },
   "outputs": [],
   "source": [
    "relative_variation_sim = np.array([sim_N[i][:,1] for i in range(n_choice_N)])\n",
    "print (\"theoretical std of relative variation: \", sigma_theoretical)\n",
    "std_sqrtN = np.std([np.std(relative_variation_sim[i]) for i in range(n_choice_N)])\n",
    "print (\"\\sqrt N * std of relative variation : \", std_sqrtN "
   ]
  },
  {
   "cell_type": "markdown",
   "metadata": {},
   "source": [
    "## Fluctuation Analysis"
   ]
  },
  {
   "cell_type": "code",
   "execution_count": null,
   "metadata": {
    "collapsed": true
   },
   "outputs": [],
   "source": [
    "##fluctuation\n",
    "plt.figure(figsize = [15,18])\n",
    "plt.subplot(4,1,1)\n",
    "\n",
    "sns.distplot(relative_variation_sim[0] ,bins = 100, label = \"empirical\")\n",
    "plt.title('Histogram of relative variation (N =100, q_test = 4)')\n",
    "x = np.arange(-15,15,0.1)\n",
    "plt.plot(x,norm.pdf(x,0,sigma_theoretical), label = \"theoretical\")\n",
    "plt.legend()\n",
    "plt.xlim([-50,50])\n",
    "\n",
    "plt.subplot(4,1,2)\n",
    "\n",
    "sns.distplot(relative_variation_sim[0] ,bins = 100, label = \"empirical\")\n",
    "plt.title('Histogram of relative variation (N =500, q_test = 4)')\n",
    "x = np.arange(-15,15,0.1)\n",
    "plt.plot(x,norm.pdf(x,0,sigma_theoretical), label = \"theoretical\")\n",
    "plt.legend()\n",
    "plt.xlim([-50,50])\n",
    "\n",
    "plt.subplot(4,1,3)\n",
    "\n",
    "sns.distplot(relative_variation_sim[0] ,bins = 100, label = \"empirical\")\n",
    "plt.title('Histogram of relative variation (N =1000, q_test = 4)')\n",
    "x = np.arange(-15,15,0.1)\n",
    "plt.plot(x,norm.pdf(x,0,sigma_theoretical), label = \"theoretical\")\n",
    "plt.legend()\n",
    "plt.xlim([-50,50])\n",
    "\n",
    "plt.subplot(4,1,4)\n",
    "\n",
    "sns.distplot(relative_variation_sim[0] ,bins = 100, label = \"empirical\")\n",
    "plt.title('Histogram of relative variation (N =3000, q_test = 4)')\n",
    "x = np.arange(-15,15,0.1)\n",
    "plt.plot(x,norm.pdf(x,0,sigma_theoretical), label = \"theoretical\")\n",
    "plt.legend()\n",
    "plt.xlim([-50,50])"
   ]
  },
  {
   "cell_type": "code",
   "execution_count": null,
   "metadata": {
    "collapsed": true
   },
   "outputs": [],
   "source": [
    "plt.figure(figsize = [10,5])\n",
    "plt.plot(np.array(list_N), std_sqrtN/ np.sqrt(list_N), label = \"simulated\")\n",
    "plt.plot(np.array(list_N),  sigma_theoretical /np.sqrt(list_N), label = \"theoretical\"    ) \n",
    "plt.legend()\n",
    "\n"
   ]
  }
 ],
 "metadata": {
  "kernelspec": {
   "display_name": "Python 2",
   "language": "python",
   "name": "python2"
  },
  "language_info": {
   "codemirror_mode": {
    "name": "ipython",
    "version": 2
   },
   "file_extension": ".py",
   "mimetype": "text/x-python",
   "name": "python",
   "nbconvert_exporter": "python",
   "pygments_lexer": "ipython2",
   "version": "2.7.11"
  }
 },
 "nbformat": 4,
 "nbformat_minor": 0
}
