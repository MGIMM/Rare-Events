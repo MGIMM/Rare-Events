{
 "cells": [
  {
   "cell_type": "code",
   "execution_count": 1,
   "metadata": {
    "collapsed": false
   },
   "outputs": [
    {
     "name": "stderr",
     "output_type": "stream",
     "text": [
      "/Users/duqiming2004/anaconda/lib/python2.7/site-packages/matplotlib/__init__.py:872: UserWarning: axes.color_cycle is deprecated and replaced with axes.prop_cycle; please use the latter.\n",
      "  warnings.warn(self.msg_depr % (key, alt_key))\n"
     ]
    }
   ],
   "source": [
    "import numpy as np\n",
    "from matplotlib import pyplot as plt\n",
    "import seaborn as sns\n",
    "sns.set_style(\"whitegrid\")\n",
    "%matplotlib inline"
   ]
  },
  {
   "cell_type": "markdown",
   "metadata": {},
   "source": [
    "# Toy Example (dim = 1)\n",
    "* $X \\sim \\mathcal{N}(0,1)$ r.v that we could simulate\n",
    "* $S:\\mathbb{R} \\to \\mathbb{R}$ score function / blackbox i.e. we could simulate $S(X)$, but we don't know the form of $S$. here we take $S(X) = |X| $\n",
    "* Goal : estimate $p = \\mathbb{P}(S(X)>q) < 10^{-6}$ ( q = 5 rare event)"
   ]
  },
  {
   "cell_type": "code",
   "execution_count": 442,
   "metadata": {
    "collapsed": false
   },
   "outputs": [],
   "source": [
    "from numba import autojit\n",
    "@autojit\n",
    "def S(X):\n",
    "    '''score function which is a black box'''\n",
    "    return np.abs(X)"
   ]
  },
  {
   "cell_type": "markdown",
   "metadata": {},
   "source": [
    "\n",
    "### remark\n",
    "(cf. Sequential Monte Carlo for Rare Event Estimation(F.Cérou, P.Del Moral, T.Furon, A.Guyader)):\n",
    "\n",
    "## Fixed-levels Algorithm:\n",
    "\n",
    "#### Parameters:\n",
    "\n",
    "N: the number of particles\n",
    "\n",
    "$\\{L_0,...,L_n\\}$: the sequence of levels, where $L_0 = -\\infty$\n",
    "\n",
    "#### Initialization\n",
    "\n",
    "Draw an i.i.d. N-sample $(X_0^j)_{1\\leq j\\leq N}$ of law $\\mu$\n",
    "\n",
    "#### Iterations\n",
    "\n",
    "*for k = 0 to n-1:*\n",
    "\n",
    "Let $I_k  = \\{j : X_k^j \\in A_{k+1}\\}$ where $A_{k+1} = \\{x \\in \\mathbb{R}^d : S(x) > L_k\\}$\n",
    "\n",
    "Let $\\hat p_k = \\frac{\\#|T_k|}{N}$\n",
    "\n",
    "if $j \\in I_k$, let $\\tilde X_{k+1}^j = X_k^j$\n",
    "if $j \\notin I_k$, let $\\tilde X_{k+1}^j$ be a copy of $X_k^l$ where $l$ is chosen randomly in $I_k$ with uniform\n",
    "probabilities.\n",
    "\n",
    "\n",
    "\n",
    "############# *Question* ################\n",
    "\n",
    "(I think there would be a problem when $I_k$ is empty, which would happen with a high proba when the level becomes large (i.e the $A_{k+1}$ is rare), so i decide to regenerate an $X_{new} \\sim \\mathcal{L}( X | S(X)>L_{k+1})$. But it increase the complexibility greatly. )\n",
    "\n",
    "1. if the size I_k is very large, then the procedure mentioned in the paper gives us a new r.v. who converges in distribution(at least) to the law $\\mathcal{L}(X|X \\in A_{k+1})$ \n",
    "\n",
    "2. This procedure is far more effecient than the generation that I used here. However, to ensure that $I_k$ is not empty for every level k (this could not ensure the convergence of the r.v. constructed), we should draw a big number of particles.\n",
    "\n",
    "########################################\n",
    "\n",
    "\n",
    "*for j from 1 to N:*\n",
    "\n",
    "Draw a new particle $\\hat X_{k+1}^j \\sim K(\\tilde X_{k+1}^j,\\cdot )$\n",
    "\n",
    "if $\\hat X_{k+1}^j \\in A_{k+1}$, let $X_{k+1}^j = \\hat X_{k+1}^j$, else let $X_{k+1}^j = \\tilde X_{k+1}^j$\n",
    "\n",
    "(that is to say, with the condition that $X \\in A_{k+1}$, we will only accept the transition in $A_{k+1}$ )\n",
    "\n",
    "#### Output\n",
    "\n",
    "Estimate the proba of the rare events by $\\hat p = \\prod_{k = 0}^{n - 1} \\hat p_k $"
   ]
  },
  {
   "cell_type": "code",
   "execution_count": 1010,
   "metadata": {
    "collapsed": false
   },
   "outputs": [
    {
     "name": "stdout",
     "output_type": "stream",
     "text": [
      "[       -inf  0.66908911  0.67488404  1.22825929  1.45406456  1.98015034\n",
      "  2.5256638   2.71088547  3.00314609  3.59966322  4.        ]\n",
      "real value of p: 6.33424836662e-05\n"
     ]
    }
   ],
   "source": [
    "# sequence of levels\n",
    "num_lev = 10\n",
    "#q = np.array([1.1,1.2,1.25,1.5,1.8])\n",
    "q_test = 4\n",
    "q = np.append(-np.Inf,np.sort(np.random.uniform(0.5,q_test,num_lev)))\n",
    "q[num_lev] = q_test\n",
    "print q\n",
    "\n",
    "# real value of p\n",
    "from scipy.stats import norm\n",
    "p = (1-norm.cdf(q[num_lev]))*2\n",
    "print \"real value of p:\" ,p"
   ]
  },
  {
   "cell_type": "code",
   "execution_count": 1011,
   "metadata": {
    "collapsed": false
   },
   "outputs": [
    {
     "name": "stdout",
     "output_type": "stream",
     "text": [
      "var_tuning:  0.5\n",
      "levels:  [       -inf  0.66908911  0.67488404  1.22825929  1.45406456  1.98015034\n",
      "  2.5256638   2.71088547  3.00314609  3.59966322  4.        ]\n",
      "0.2446\n",
      "0.4916\n",
      "0.3042\n",
      "0.3917\n",
      "0.3008\n",
      "0.2749\n",
      "0.389\n",
      "0.3573\n",
      "0.263\n",
      "real value of p: 6.33424836662e-05\n",
      "estimation of p:  4.33083906915e-05\n",
      "relative variation:  31.6282087711\n",
      "N:  10000\n"
     ]
    }
   ],
   "source": [
    "#tuning parameter \n",
    "sigma_1 = 1\n",
    "var_tuning = float(sigma_1**2)/(1+sigma_1**2)\n",
    "print \"var_tuning: \",var_tuning\n",
    "print \"levels: \", q\n",
    "\n",
    "\n",
    "###Estimation of p\n",
    "\n",
    "N = 10000 # number of samples\n",
    "X = np.zeros([num_lev,N])\n",
    "X[0,:] = np.random.normal(0,1,N) \n",
    "p_hat = []\n",
    "#I = [[0] for k in range(num_lev-1)]\n",
    "for k in range(num_lev-1):\n",
    "    p_hat = np.append(p_hat,np.sum((S(X[k,]>q[k+1])))/float(N))\n",
    "    print p_hat[k]\n",
    "#     for j in range(N):\n",
    "#         if S(X[k,j])>q[k+1]:\n",
    "#             I[k] = np.append(I[k],X[k,j])\n",
    "    for j in range(N):\n",
    "        if S(X[k,j])>q[k+1]:\n",
    "            X[k+1,j] = X[k,j]\n",
    "        else:\n",
    "#             l = np.random.choice(I[k])\n",
    "#             X[k+1,j] = X[k,l]\n",
    "            X_tilde = np.random.normal(0,1,1)\n",
    "            while(S(X_tilde)<=q[k+1]):\n",
    "                X_tilde = np.random.normal(0,1,1)\n",
    "                #thr += 1\n",
    "            X[k+1,j] = X_tilde\n",
    "                \n",
    "    \n",
    "        X_iter = np.random.normal(X[k+1,j],np.sqrt(var_tuning),1)\n",
    "        if S(X_iter)>q[k+1]:\n",
    "            X[k+1,j] = X_iter\n",
    "    \n",
    "    \n",
    "\n",
    "\n",
    "print \"real value of p:\" ,p\n",
    "print \"estimation of p: \", np.prod(p_hat)\n",
    "print \"relative variation: \",np.abs((p - np.prod(p_hat))/p)*np.sqrt(N)\n",
    "print \"N: \",N\n",
    "\n",
    "\n",
    "\n",
    "\n"
   ]
  },
  {
   "cell_type": "code",
   "execution_count": 1012,
   "metadata": {
    "collapsed": false,
    "scrolled": false
   },
   "outputs": [],
   "source": [
    "# # we will estimate p for different N \n",
    "# p_list = []\n",
    "# variation = []\n",
    "# for N in np.array(np.linspace(500,10000,100),np.int):\n",
    "#     X = np.zeros([num_lev,N])\n",
    "#     X[0,:] = np.random.normal(0,1,N) \n",
    "#     #p_hat = []\n",
    "#     #I = [[0] for k in range(num_lev-1)]\n",
    "#     for k in range(num_lev-1):\n",
    "#         p_hat = np.append(p_hat,np.sum((S(X[k,]>q[k+1])))/float(N))\n",
    "#         print p_hat[k]\n",
    "#     #     for j in range(N):\n",
    "#     #         if S(X[k,j])>q[k+1]:\n",
    "#     #             I[k] = np.append(I[k],X[k,j])\n",
    "#         for j in range(N):\n",
    "#             if S(X[k,j])>q[k+1]:\n",
    "#                 X[k+1,j] = X[k,j]\n",
    "#             else:\n",
    "#     #             l = np.random.choice(I[k])\n",
    "#     #             X[k+1,j] = X[k,l]\n",
    "#                 X_tilde = np.random.normal(0,1,1)\n",
    "#                 while(S(X_tilde)<=q[k+1]):\n",
    "#                     X_tilde = np.random.normal(0,1,1)\n",
    "#                     #thr += 1\n",
    "#                 X[k+1,j] = X_tilde\n",
    "\n",
    "\n",
    "#             X_iter = np.random.normal(X[k+1,j],np.sqrt(var_tuning),1)\n",
    "#             if S(X_iter)>q[k+1]:\n",
    "#                 X[k+1,j] = X_iter\n",
    "\n",
    "\n",
    "\n",
    "#     variation = np.append(variation,np.abs((p - np.prod(p_hat))/p)*np.sqrt(N))\n",
    "#     p_list = np.append(p_list,np.prod(p_hat))\n",
    "#     print \"real value of p:\" ,p\n",
    "#     print \"estimation of p: \", np.prod(p_hat)\n",
    "#     print \"relative variation: \",np.abs((p - np.prod(p_hat))/p)*np.sqrt(N)\n",
    "#     print \"N: \",N\n",
    "\n"
   ]
  },
  {
   "cell_type": "code",
   "execution_count": 1013,
   "metadata": {
    "collapsed": false
   },
   "outputs": [],
   "source": [
    "# plt.figure(figsize=[15,5])\n",
    "# plt.plot(variation*(variation < 100000),\"p\")\n",
    "# print np.mean(variation)\n",
    "# print np.sum(variation < 50000)\n",
    "# plt.title(\"relative residus of $\\hatp$\")"
   ]
  },
  {
   "cell_type": "code",
   "execution_count": 1014,
   "metadata": {
    "collapsed": false
   },
   "outputs": [],
   "source": [
    "# plt.figure(figsize = [15,5])\n",
    "# plt.hist(variation,bins = 20)\n",
    "# plt.title(\"Histogram of relative residus\")\n",
    "# a = np.array([(1-norm.cdf(q[i]))*2 for i in range(num_lev)])[1:]\n",
    "# print 'var: ', np.mean(variation)\n",
    "# print \"'minimum' var(theoretic):\",np.sum((1-a)/a)\n",
    "# print \"#{var<var(theoretic)}: \",np.sum(variation < np.sum((1-a)/a))\n",
    "# print \"1-sigma : \",1- (1-norm.cdf(1))*2"
   ]
  },
  {
   "cell_type": "code",
   "execution_count": 1015,
   "metadata": {
    "collapsed": false
   },
   "outputs": [],
   "source": [
    "# plt.figure(figsize = [15,5])\n",
    "# plt.hist(p_list,bins = 50)\n",
    "# plt.title(\"Histogramme of $\\hatp$\")\n"
   ]
  },
  {
   "cell_type": "markdown",
   "metadata": {},
   "source": [
    "### remark\n",
    "(cf. Sequential Monte Carlo for Rare Event Estimation(F.Cérou, P.Del Moral, T.Furon, A.Guyader)):\n",
    "\n",
    "\n",
    "## Adaptive Multilevel Splitting    \n",
    "\n",
    "#### parameter:\n",
    "\n",
    "$N$:  the number of particles\n",
    "\n",
    "$N_0$: the number of succeeding particles\n",
    "\n",
    "$p_0 = \\frac{N_0}{N}$ : the success rate\n",
    "\n",
    "#### Initialization\n",
    "\n",
    "Draw an i.i.d. N-sample $(X_0^j)_{1\\leq j\\leq N}$ of law $\\mu$\n",
    "\n",
    "Compute the $\\hat L_1$, the $(1-p_0)$ quantile of $(S(X_0^j))_{1\\leq j \\leq N}$\n",
    "\n",
    "k = 1, index of level\n",
    "\n",
    "#### Iterations\n",
    "\n"
   ]
  },
  {
   "cell_type": "code",
   "execution_count": 977,
   "metadata": {
    "collapsed": false
   },
   "outputs": [
    {
     "name": "stdout",
     "output_type": "stream",
     "text": [
      "real value of p: 6.33424836662e-05\n",
      "1\n",
      "0.675499383908\n",
      "0.0\n",
      "2\n",
      "1.11286763785\n",
      "0.0\n",
      "3\n",
      "1.49415349472\n",
      "0.000125\n",
      "4\n",
      "1.82124934917\n",
      "6.25e-05\n",
      "5\n",
      "2.14037223275\n",
      "6.25e-05\n",
      "6\n",
      "2.40616451648\n",
      "6.25e-05\n",
      "7\n",
      "2.65810268223\n",
      "7.8125e-05\n",
      "8\n",
      "2.8876049211\n",
      "8.203125e-05\n",
      "9\n",
      "3.0884178865\n",
      "8.3984375e-05\n",
      "10\n",
      "3.29961139548\n",
      "7.421875e-05\n",
      "11\n",
      "3.48474163674\n",
      "7.32421875e-05\n",
      "12\n",
      "3.68250221206\n",
      "6.73828125e-05\n",
      "13\n",
      "3.85692120128\n",
      "6.82373046875e-05\n",
      "k =  14\n",
      "real value of p: 6.33424836662e-05\n",
      "estimation of p:  6.82373046875e-05\n",
      "relative variation:  2.44366533646\n",
      "N:  1000\n"
     ]
    }
   ],
   "source": [
    "q_test = 4\n",
    "from scipy.stats import norm\n",
    "p = (1-norm.cdf(q_test))*2\n",
    "print \"real value of p:\" ,p\n",
    "\n",
    "\n",
    "\n",
    "\n",
    "p_0 = 0.5 # prescribed success rate\n",
    "N = 1000 #size of sample\n",
    "max_iter = 1000\n",
    "\n",
    "# calculate the empirical quantile of X\n",
    "@autojit\n",
    "def L_empirical(X,percentage = p_0):\n",
    "    \n",
    "    return np.percentile(S(X),(1-percentage)*100,interpolation=\"lower\")\n",
    "\n",
    "###Estimation of p\n",
    "\n",
    "X = np.random.normal(0,1,N)\n",
    "L = np.array([-np.Inf,L_empirical(X)])\n",
    "k = 1\n",
    "while(L[k]<q_test):\n",
    "    print k\n",
    "    print L[k]\n",
    "    X_new = []\n",
    "    for i in range(N):\n",
    "        if S(X[i])>L[k]:\n",
    "            X_new = np.append(X_new, X[i])\n",
    "        else:\n",
    "            X_tilde = np.random.normal(0,1,1)\n",
    "            #thr = 1      #add a threshold control the max_iter? seems that it's not possible !\n",
    "            #while((S(X_tilde)<=L[k])*(thr< max_iter) == 1 ):\n",
    "            while(S(X_tilde)<=L[k]):\n",
    "                X_tilde = np.random.normal(0,1,1)\n",
    "                #thr += 1\n",
    "            X_new = np.append(X_new, X_tilde)\n",
    "                \n",
    "            \n",
    "    \n",
    "    X = X_new\n",
    "    L = np.append(L, L_empirical(X))\n",
    "    k += 1\n",
    "    \n",
    "    N_L = np.sum((S(X)>=q_test))\n",
    "    p_hat = N_L/float(N)*p_0**(k-1)\n",
    "    print p_hat\n",
    "\n",
    "print \"k = \",k\n",
    "    \n",
    "N_L = np.sum((S(X)>=q_test))\n",
    "p_hat = N_L/float(N)*p_0**(k-1)\n",
    "\n",
    "\n",
    "print \"real value of p:\" ,p\n",
    "print \"estimation of p: \", p_hat\n",
    "print \"relative variation: \",np.abs((p - p_hat))/p*np.sqrt(N)\n",
    "print \"N: \",N\n",
    "\n"
   ]
  },
  {
   "cell_type": "code",
   "execution_count": 1016,
   "metadata": {
    "collapsed": false
   },
   "outputs": [
    {
     "name": "stdout",
     "output_type": "stream",
     "text": [
      "levels (adapted version):  [       -inf  0.67549938  1.11286764  1.49415349  1.82124935  2.14037223\n",
      "  2.40616452  2.65810268  2.88760492  3.08841789  3.2996114   3.48474164\n",
      "  3.68250221  3.8569212   4.03670314]\n"
     ]
    }
   ],
   "source": [
    "print \"levels (adapted version): \", L\n"
   ]
  },
  {
   "cell_type": "code",
   "execution_count": null,
   "metadata": {
    "collapsed": true
   },
   "outputs": [],
   "source": []
  }
 ],
 "metadata": {
  "kernelspec": {
   "display_name": "Python 2",
   "language": "python",
   "name": "python2"
  }
 },
 "nbformat": 4,
 "nbformat_minor": 0
}
