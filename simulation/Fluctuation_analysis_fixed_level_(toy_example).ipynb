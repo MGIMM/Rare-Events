{
 "cells": [
  {
   "cell_type": "code",
   "execution_count": 1,
   "metadata": {
    "collapsed": false
   },
   "outputs": [
    {
     "name": "stderr",
     "output_type": "stream",
     "text": [
      "/Users/duqiming2004/anaconda/lib/python2.7/site-packages/matplotlib/__init__.py:872: UserWarning: axes.color_cycle is deprecated and replaced with axes.prop_cycle; please use the latter.\n",
      "  warnings.warn(self.msg_depr % (key, alt_key))\n"
     ]
    }
   ],
   "source": [
    "import numpy as np\n",
    "from matplotlib import pyplot as plt\n",
    "import seaborn as sns\n",
    "sns.set_style(\"whitegrid\")\n",
    "%matplotlib inline"
   ]
  },
  {
   "cell_type": "markdown",
   "metadata": {},
   "source": [
    "# Fluctuation analysis for fixed-levels algorithm\n",
    "In this section we will do some analysis of the comportment of $\\sqrt N\\frac{\\hat p - p}{p}$. In the idealized situation, by the thm of CTL, it converges to a normal law and we are interested in estimating the variance of this normal distribution."
   ]
  },
  {
   "cell_type": "code",
   "execution_count": 2,
   "metadata": {
    "collapsed": true
   },
   "outputs": [],
   "source": [
    "from numba import autojit\n",
    "@autojit\n",
    "def S(X):\n",
    "    '''score function which is a black box'''\n",
    "    return np.abs(X)"
   ]
  },
  {
   "cell_type": "markdown",
   "metadata": {},
   "source": [
    "## Calculate the idealized levels"
   ]
  },
  {
   "cell_type": "code",
   "execution_count": 407,
   "metadata": {
    "collapsed": false
   },
   "outputs": [
    {
     "name": "stdout",
     "output_type": "stream",
     "text": [
      "('p_0 = ', 0.5, '\\t n_0 =', 13, '\\t r = ', 0.51890162619383773)\n",
      "('sequence of levels: ', array([       -inf,  0.67448975,  1.15034938,  1.53412054,  1.86273187,\n",
      "        2.15387469,  2.41755902,  2.66006747,  2.88563491,  3.09726908,\n",
      "        3.29719335,  3.4871041 ,  3.66832929,  3.84193069,  4.        ]))\n",
      "('num_lev: ', 15)\n",
      "('level interested, L = ', 4)\n",
      "('real value of p:', 6.3342483666239957e-05)\n",
      "('theoretical std of relative variation: ', 3.731909371167121)\n",
      "tested, no bug\n"
     ]
    }
   ],
   "source": [
    "from scipy.stats import norm\n",
    "\n",
    "# sequence of levels: idealized situation \n",
    "\n",
    "q_test = 4\n",
    "p = (1-norm.cdf(q_test))*2\n",
    "\n",
    "###idealized situation\n",
    "p_0 = 0.5 #success rate\n",
    "n_0 = int(np.log(p)/np.log(p_0))\n",
    "r = p/(p_0**n_0)\n",
    "\n",
    "print (\"p_0 = \", p_0, '\\t n_0 =',n_0,\"\\t r = \",r)\n",
    "\n",
    "L = [-np.Inf]\n",
    "for k in range(1,n_0+1,1):\n",
    "    L = np.append(L, norm.ppf(1 - p_0**k/2))\n",
    "L_ideal = np.append(L, q_test)\n",
    "num_lev = len(L_ideal)\n",
    "\n",
    "##var_relative\n",
    "sigma_theoretical = np.sqrt(n_0*(1-p_0)/p_0 + (1-r)/r)\n",
    "print (\"sequence of levels: \", L_ideal)\n",
    "print (\"num_lev: \",num_lev)\n",
    "print (\"level interested, L = \",q_test)\n",
    "# real value of p\n",
    "print (\"real value of p:\" ,p)\n",
    "print (\"theoretical std of relative variation: \", sigma_theoretical)\n",
    "print (\"tested, no bug\")"
   ]
  },
  {
   "cell_type": "markdown",
   "metadata": {},
   "source": [
    "## Algorithm (fixed_levels)"
   ]
  },
  {
   "cell_type": "code",
   "execution_count": 416,
   "metadata": {
    "collapsed": false
   },
   "outputs": [],
   "source": [
    "#tuning parameter \n",
    "####Attention !!!!!!!!   we could not choose a very large sigma_1 !!!\n",
    "sigma_1 = 0.2\n",
    "std_tuning = np.sqrt(sigma_1**2)/(1+sigma_1**2)\n",
    "c = np.sqrt(1+sigma_1**2)\n",
    "def mu_0_test(N):\n",
    "    '''The distribution of X that we could simulate'''\n",
    "    return np.random.normal(0,1,N)\n",
    "\n",
    "# def shaker_test(X, sigma_1):\n",
    "#     std_tuning = np.sqrt(sigma_1**2)/(1+sigma_1**2)\n",
    "#     c = np.sqrt(1+sigma_1**2)\n",
    "#     return np.random.normal(X/c,std,1)\n",
    "\n",
    "def shaker_test(X):\n",
    "    return np.random.normal(X/c,std_tuning,1)\n",
    "    \n",
    "\n",
    "def simulation_fixed_levels(N , L, score_function, mu_0, shaker, status_tracking = False):\n",
    "\n",
    "\n",
    "\n",
    "\n",
    "\n",
    "    # ###Estimation of p\n",
    "\n",
    "     # number of samples\n",
    "    X= mu_0(N)\n",
    "    list_p_hat = []\n",
    "\n",
    "    for k in range(num_lev-1):\n",
    "\n",
    "        #print (\"k = \", k ) \n",
    "\n",
    "    ###### construction of I_k \n",
    "\n",
    "        I = [X[j] for j in range(N) if score_function(X[j])>L[k+1]]\n",
    "        l = len(I)\n",
    "        list_p_hat = np.append(list_p_hat, l/np.float(N))\n",
    "        #print (\"estimation of p_k\" ,list_p_hat[k])\n",
    "\n",
    "\n",
    "\n",
    "        X_tilde = np.zeros(N)\n",
    "        X_tilde[0:l] = I\n",
    "        I = np.random.permutation(I)\n",
    "        for j in range(l,N,1):\n",
    "            X_tilde[j] = I[j%l]\n",
    "\n",
    "        for j in range(N):            \n",
    "            X_iter = shaker(X_tilde[j])\n",
    "            if score_function(X_iter)>L[k+1]:\n",
    "                X[j] = X_iter\n",
    "            else:\n",
    "                X[j] = X_tilde[j]\n",
    "\n",
    "\n",
    "    p_hat = np.prod(list_p_hat)\n",
    "    \n",
    "    var_rel = np.sqrt(N) * (p - p_hat)/p\n",
    "    if status_tracking == True:\n",
    "        #print (\"std_tuning: \",std_tuning)\n",
    "        print (\"levels: \", L)\n",
    "        print (\"real value of p:\" ,p)\n",
    "        print (\"estimation of p: \", p_hat)\n",
    "        print (\"relative variation: \", var_rel)\n",
    "        print (\"N: \",N)\n",
    "    return p_hat, var_rel\n"
   ]
  },
  {
   "cell_type": "markdown",
   "metadata": {},
   "source": [
    "#### we remark that the choice of shaker (here, the sigma_1) will greatly inflence the quality of estimation."
   ]
  },
  {
   "cell_type": "code",
   "execution_count": 424,
   "metadata": {
    "collapsed": false
   },
   "outputs": [
    {
     "name": "stdout",
     "output_type": "stream",
     "text": [
      "('levels: ', array([       -inf,  0.67448975,  1.15034938,  1.53412054,  1.86273187,\n",
      "        2.15387469,  2.41755902,  2.66006747,  2.88563491,  3.09726908,\n",
      "        3.29719335,  3.4871041 ,  3.66832929,  3.84193069,  4.        ]))\n",
      "('real value of p:', 6.3342483666239957e-05)\n",
      "('estimation of p: ', 7.991231299085596e-05)\n",
      "('relative variation: ', -8.2722365896055301)\n",
      "('N: ', 1000)\n"
     ]
    },
    {
     "data": {
      "text/plain": [
       "(7.991231299085596e-05, -8.2722365896055301)"
      ]
     },
     "execution_count": 424,
     "metadata": {},
     "output_type": "execute_result"
    }
   ],
   "source": [
    "#test, sigma_1 = 0.2\n",
    "simulation_fixed_levels(N = 1000, L = L_ideal\n",
    "                        , score_function = S , mu_0 = mu_0_test, shaker = shaker_test, status_tracking = True)"
   ]
  },
  {
   "cell_type": "code",
   "execution_count": null,
   "metadata": {
    "collapsed": false
   },
   "outputs": [
    {
     "name": "stdout",
     "output_type": "stream",
     "text": [
      "('Total number of simulation: ', 3)\n",
      "('simulation completed: ', 1)\n",
      "('simulation completed: ', 2)"
     ]
    }
   ],
   "source": [
    "n_choice_N = 3\n",
    "n_sim = 500\n",
    "#N = 100, 1000, 10000, 100000\n",
    "sim_N =[[ [] for j in range(n_sim)] for i in range(n_choice_N)]\n",
    "print (\"Total number of simulation: \", n_choice_N)\n",
    "for index_sim in range(n_choice_N):\n",
    "    for i in range(n_sim):\n",
    "        \n",
    "        sim_N[index_sim][i] = simulation_fixed_levels(N = 100*10**index_sim, L = L_ideal\n",
    "                        , score_function = S , mu_0 = mu_0_test, shaker = shaker_test)\n",
    "    print (\"simulation completed: \",index_sim+1)\n",
    "sim_N = np.array(sim_N)"
   ]
  },
  {
   "cell_type": "code",
   "execution_count": null,
   "metadata": {
    "collapsed": false
   },
   "outputs": [],
   "source": [
    "relative_variation_sim = np.array([sim_N[i][:,1] for i in range(n_choice_N)])\n",
    "print (\"std of relative variation (N = 100, 1000, 10000): \", [np.std(relative_variation_sim[i]) for i in range(n_choice_N)])/np.array([10,np.sqrt(1000),100])\n",
    "print (\"theoretical std of relative variation: \", sigma_theoretical)\n",
    "print (\"\\sqrt N * std of relative variation (N = 100, 1000, 10000): \", [np.std(relative_variation_sim[i]) for i in range(n_choice_N)])"
   ]
  },
  {
   "cell_type": "code",
   "execution_count": null,
   "metadata": {
    "collapsed": false
   },
   "outputs": [],
   "source": [
    "##fluctuation\n",
    "plt.figure(figsize = [15,15])\n",
    "plt.subplot(3,1,1)\n",
    "\n",
    "sns.distplot(relative_variation_sim[0] ,bins = 50, label = \"empirical\")\n",
    "plt.title('Histogram of relative variation (N =100, q_test = 4)')\n",
    "x = np.arange(-15,15,0.1)\n",
    "plt.plot(x,norm.pdf(x,0,sigma_theoretical), label = \"theoretical\")\n",
    "plt.legend()\n",
    "\n",
    "plt.subplot(3,1,2)\n",
    "\n",
    "sns.distplot(relative_variation_sim[0] ,bins = 50, label = \"empirical\")\n",
    "plt.title('Histogram of relative variation (N =1000, q_test = 4)')\n",
    "x = np.arange(-15,15,0.1)\n",
    "plt.plot(x,norm.pdf(x,0,sigma_theoretical), label = \"theoretical\")\n",
    "plt.legend()\n",
    "\n",
    "plt.subplot(3,1,3)\n",
    "\n",
    "sns.distplot(relative_variation_sim[0] ,bins = 50, label = \"empirical\")\n",
    "plt.title('Histogram of relative variation (N =10000, q_test = 4)')\n",
    "x = np.arange(-15,15,0.1)\n",
    "plt.plot(x,norm.pdf(x,0,sigma_theoretical), label = \"theoretical\")\n",
    "plt.legend()"
   ]
  },
  {
   "cell_type": "code",
   "execution_count": null,
   "metadata": {
    "collapsed": false,
    "scrolled": false
   },
   "outputs": [],
   "source": [
    "np.std(relative_variation_sim[2])"
   ]
  },
  {
   "cell_type": "code",
   "execution_count": null,
   "metadata": {
    "collapsed": true
   },
   "outputs": [],
   "source": []
  }
 ],
 "metadata": {
  "kernelspec": {
   "display_name": "Python 2",
   "language": "python",
   "name": "python2"
  },
  "language_info": {
   "codemirror_mode": {
    "name": "ipython",
    "version": 2
   },
   "file_extension": ".py",
   "mimetype": "text/x-python",
   "name": "python",
   "nbconvert_exporter": "python",
   "pygments_lexer": "ipython2",
   "version": "2.7.11"
  }
 },
 "nbformat": 4,
 "nbformat_minor": 0
}
